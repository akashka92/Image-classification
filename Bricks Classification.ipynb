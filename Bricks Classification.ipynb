{
 "cells": [
  {
   "cell_type": "code",
   "execution_count": 2,
   "metadata": {},
   "outputs": [],
   "source": [
    "import tensorflow as tf\n",
    "from tensorflow import keras\n",
    "import matplotlib.pyplot as plt\n",
    "import numpy as np\n",
    "import pandas as pd\n",
    "import os\n",
    "import matplotlib.image as mpimg"
   ]
  },
  {
   "cell_type": "code",
   "execution_count": 3,
   "metadata": {},
   "outputs": [],
   "source": [
    "train_csv = pd.read_csv('D:/ML/Jupyter/Data/Bricks/question_1_dataset/Train.csv');\n",
    "test_csv = pd.read_csv('D:/ML/Jupyter/Data/Bricks/question_1_dataset/Test.csv');"
   ]
  },
  {
   "cell_type": "code",
   "execution_count": 4,
   "metadata": {},
   "outputs": [],
   "source": [
    "train_filenames = ['D:\\ML\\Jupyter\\Data\\Bricks\\question_1_dataset/train/train/' + fname for fname in train_csv['name'].tolist()]\n",
    "test_filenames = ['D:\\ML\\Jupyter\\Data\\Bricks\\question_1_dataset/test/test/' + fname for fname in test_csv['name'].tolist()]"
   ]
  },
  {
   "cell_type": "code",
   "execution_count": 5,
   "metadata": {},
   "outputs": [],
   "source": [
    "x_train = [mpimg.imread(i) for i in train_filenames];\n",
    "y_train = train_csv['category'].tolist()\n",
    "x_test = [mpimg.imread(i) for i in test_filenames];"
   ]
  },
  {
   "cell_type": "code",
   "execution_count": 6,
   "metadata": {},
   "outputs": [],
   "source": [
    "x_train=np.asarray(x_train);\n",
    "y_train=np.asarray(y_train);\n",
    "x_test =np.asarray(x_test);"
   ]
  },
  {
   "cell_type": "code",
   "execution_count": 7,
   "metadata": {},
   "outputs": [],
   "source": [
    "model = keras.models.Sequential([\n",
    "  keras.layers.Conv2D(32, kernel_size=(3,3), padding='same',input_shape=(200,200,4),activation='relu',kernel_initializer='glorot_uniform',bias_initializer='zeros'),\n",
    "  keras.layers.MaxPooling2D((2, 2)),\n",
    "  keras.layers.Conv2D(16, kernel_size=(3,3), padding='same',activation='relu',kernel_initializer='glorot_uniform',bias_initializer='zeros'),\n",
    "  keras.layers.MaxPooling2D((2, 2)),\n",
    "  keras.layers.Flatten(),\n",
    "  keras.layers.Dense(512, activation='relu',kernel_initializer='glorot_uniform',bias_initializer='zeros'),  \n",
    "  keras.layers.Dense(16, activation='softmax',kernel_initializer='glorot_uniform',bias_initializer='zeros')\n",
    "])"
   ]
  },
  {
   "cell_type": "code",
   "execution_count": 8,
   "metadata": {},
   "outputs": [
    {
     "name": "stdout",
     "output_type": "stream",
     "text": [
      "Model: \"sequential\"\n",
      "_________________________________________________________________\n",
      "Layer (type)                 Output Shape              Param #   \n",
      "=================================================================\n",
      "conv2d (Conv2D)              (None, 200, 200, 32)      1184      \n",
      "_________________________________________________________________\n",
      "max_pooling2d (MaxPooling2D) (None, 100, 100, 32)      0         \n",
      "_________________________________________________________________\n",
      "conv2d_1 (Conv2D)            (None, 100, 100, 16)      4624      \n",
      "_________________________________________________________________\n",
      "max_pooling2d_1 (MaxPooling2 (None, 50, 50, 16)        0         \n",
      "_________________________________________________________________\n",
      "flatten (Flatten)            (None, 40000)             0         \n",
      "_________________________________________________________________\n",
      "dense (Dense)                (None, 512)               20480512  \n",
      "_________________________________________________________________\n",
      "dense_1 (Dense)              (None, 16)                8208      \n",
      "=================================================================\n",
      "Total params: 20,494,528\n",
      "Trainable params: 20,494,528\n",
      "Non-trainable params: 0\n",
      "_________________________________________________________________\n"
     ]
    }
   ],
   "source": [
    "model.summary()"
   ]
  },
  {
   "cell_type": "code",
   "execution_count": 9,
   "metadata": {},
   "outputs": [],
   "source": [
    "optimizer=keras.optimizers.RMSprop(learning_rate=0.001, rho=0.9, momentum=0.9, epsilon=1e-07)"
   ]
  },
  {
   "cell_type": "code",
   "execution_count": 10,
   "metadata": {},
   "outputs": [],
   "source": [
    "loss=keras.losses.SparseCategoricalCrossentropy()"
   ]
  },
  {
   "cell_type": "code",
   "execution_count": 11,
   "metadata": {},
   "outputs": [],
   "source": [
    "model.compile(optimizer=optimizer,\n",
    "              loss=loss,\n",
    "              metrics=['accuracy'])"
   ]
  },
  {
   "cell_type": "code",
   "execution_count": 12,
   "metadata": {},
   "outputs": [
    {
     "name": "stdout",
     "output_type": "stream",
     "text": [
      "Train on 4018 samples, validate on 447 samples\n",
      "Epoch 1/5\n",
      "4018/4018 [==============================] - 192s 48ms/sample - loss: 1.2111 - accuracy: 0.6394 - val_loss: 0.5521 - val_accuracy: 0.7964\n",
      "Epoch 2/5\n",
      "4018/4018 [==============================] - 169s 42ms/sample - loss: 0.4178 - accuracy: 0.8579 - val_loss: 0.6458 - val_accuracy: 0.7718\n",
      "Epoch 3/5\n",
      "4018/4018 [==============================] - 163s 41ms/sample - loss: 0.2374 - accuracy: 0.9082 - val_loss: 0.5595 - val_accuracy: 0.8054\n",
      "Epoch 4/5\n",
      "4018/4018 [==============================] - 159s 39ms/sample - loss: 0.1596 - accuracy: 0.9405 - val_loss: 0.8952 - val_accuracy: 0.8345\n",
      "Epoch 5/5\n",
      "4018/4018 [==============================] - 158s 39ms/sample - loss: 0.1231 - accuracy: 0.9535 - val_loss: 0.7263 - val_accuracy: 0.8166\n"
     ]
    }
   ],
   "source": [
    "history=model.fit(x_train, y_train-1, validation_split=0.1, epochs=5,batch_size=32)"
   ]
  },
  {
   "cell_type": "code",
   "execution_count": 25,
   "metadata": {},
   "outputs": [
    {
     "data": {
      "image/png": "[encoded data removed]",
      "text/plain": [
       "<Figure size 432x288 with 1 Axes>"
      ]
     },
     "metadata": {
      "needs_background": "light"
     },
     "output_type": "display_data"
    }
   ],
   "source": [
    "# Plot training & validation accuracy values\n",
    "fi=plt.figure()\n",
    "plt.plot(history.history['accuracy'])\n",
    "plt.plot(history.history['val_accuracy'])\n",
    "plt.title('Model accuracy')\n",
    "plt.ylabel('Accuracy')\n",
    "plt.xlabel('Epoch')\n",
    "plt.legend(['Train', 'Test'], loc='lower left')\n",
    "plt.ylim((0,1))\n",
    "plt.show()\n",
    "fi.savefig('Accuracy.jpeg')"
   ]
  },
  {
   "cell_type": "code",
   "execution_count": 23,
   "metadata": {},
   "outputs": [
    {
     "data": {
      "image/png": "[encoded data removed]",
      "text/plain": [
       "<Figure size 432x288 with 1 Axes>"
      ]
     },
     "metadata": {
      "needs_background": "light"
     },
     "output_type": "display_data"
    }
   ],
   "source": [
    "# Plot training & validation loss values\n",
    "fig=plt.figure()\n",
    "plt.plot(history.history['loss'])\n",
    "plt.plot(history.history['val_loss'])\n",
    "plt.title('Model loss')\n",
    "plt.ylabel('Loss')\n",
    "plt.xlabel('Epoch')\n",
    "plt.legend(['Train', 'Test'], loc='upper left')\n",
    "plt.ylim((0,2))\n",
    "plt.show()\n",
    "fig.savefig('Loss.jpeg')"
   ]
  },
  {
   "cell_type": "code",
   "execution_count": 17,
   "metadata": {},
   "outputs": [],
   "source": [
    "Result=np.argmax(model.predict(x_test),axis=1)\n",
    "\n",
    "test_csv['predictions']=Result+1\n",
    "\n",
    "test_csv.to_csv(r'D:\\ML\\Jupyter\\Data\\Bricks\\question_1_dataset\\Result.csv')"
   ]
  }
 ],
 "metadata": {
  "kernelspec": {
   "display_name": "Python 3",
   "language": "python",
   "name": "python3"
  },
  "language_info": {
   "codemirror_mode": {
    "name": "ipython",
    "version": 3
   },
   "file_extension": ".py",
   "mimetype": "text/x-python",
   "name": "python",
   "nbconvert_exporter": "python",
   "pygments_lexer": "ipython3",
   "version": "3.7.3"
  }
 },
 "nbformat": 4,
 "nbformat_minor": 2
}
